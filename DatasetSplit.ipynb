{
 "cells": [
  {
   "cell_type": "code",
   "execution_count": 27,
   "id": "98af547a",
   "metadata": {},
   "outputs": [
    {
     "name": "stdout",
     "output_type": "stream",
     "text": [
      "Requirement already satisfied: split-folders[full] in c:\\users\\talha098\\anaconda\\lib\\site-packages (0.5.1)\n",
      "Requirement already satisfied: tqdm in c:\\users\\talha098\\anaconda\\lib\\site-packages (from split-folders[full]) (4.62.3)\n",
      "Requirement already satisfied: colorama in c:\\users\\talha098\\anaconda\\lib\\site-packages (from tqdm->split-folders[full]) (0.4.4)\n",
      "Note: you may need to restart the kernel to use updated packages.\n"
     ]
    }
   ],
   "source": [
    "pip install split-folders[full]"
   ]
  },
  {
   "cell_type": "code",
   "execution_count": 33,
   "id": "c4a73224",
   "metadata": {},
   "outputs": [],
   "source": [
    "import zipfile as zf\n",
    "files = zf.ZipFile(\"Resized_Dataset.zip\", 'r')\n",
    "files.extractall('Resized_Dataset')\n",
    "files.close()"
   ]
  },
  {
   "cell_type": "code",
   "execution_count": 37,
   "id": "b71c5f4d",
   "metadata": {},
   "outputs": [
    {
     "name": "stderr",
     "output_type": "stream",
     "text": [
      "\n",
      "Copying files: 0 files [00:00, ? files/s]\u001b[A\n",
      "Copying files: 50 files [00:00, 292.52 files/s]\u001b[A\n"
     ]
    }
   ],
   "source": [
    "import splitfolders\n",
    "input_folder = 'Resized_Dataset'\n",
    "\n",
    "splitfolders.ratio(input_folder, output = 'WhiteSpotDataSet',\n",
    "                   seed = 100, ratio = (.6, .2, .2),\n",
    "                   group_prefix = None)"
   ]
  },
  {
   "cell_type": "code",
   "execution_count": null,
   "id": "5d89997d",
   "metadata": {},
   "outputs": [],
   "source": []
  }
 ],
 "metadata": {
  "kernelspec": {
   "display_name": "Python 3 (ipykernel)",
   "language": "python",
   "name": "python3"
  },
  "language_info": {
   "codemirror_mode": {
    "name": "ipython",
    "version": 3
   },
   "file_extension": ".py",
   "mimetype": "text/x-python",
   "name": "python",
   "nbconvert_exporter": "python",
   "pygments_lexer": "ipython3",
   "version": "3.9.7"
  }
 },
 "nbformat": 4,
 "nbformat_minor": 5
}
